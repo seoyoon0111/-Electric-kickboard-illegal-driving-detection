{
 "cells": [
  {
   "cell_type": "markdown",
   "id": "6a2ec1f8",
   "metadata": {},
   "source": [
    "# Yolo Import"
   ]
  },
  {
   "cell_type": "code",
   "execution_count": 1,
   "id": "0fe034cd",
   "metadata": {},
   "outputs": [],
   "source": [
    "# OpenCV \n",
    "import cv2\n",
    "import numpy as np\n",
    "import pandas as pd\n",
    "# 파일 경로 읽어오기\n",
    "from glob import glob\n",
    "import time\n",
    "# multi thread\n",
    "import threading\n",
    "# 이미지 가져오기\n",
    "import os\n",
    "from PIL import Image\n",
    "from tensorflow.keras.preprocessing import image\n",
    "# Sound 출력\n",
    "from gtts import gTTS\n",
    "from IPython.display import Audio\n",
    "# warning 무시\n",
    "import warnings\n",
    "warnings.filterwarnings(action='ignore') "
   ]
  },
  {
   "cell_type": "markdown",
   "id": "9df37d1a",
   "metadata": {},
   "source": [
    "# CNN & OCR Import"
   ]
  },
  {
   "cell_type": "code",
   "execution_count": 2,
   "id": "dc5a7e10",
   "metadata": {},
   "outputs": [],
   "source": [
    "# tensorflow : CNN model\n",
    "from tensorflow.keras.models import load_model\n",
    "from tensorflow.keras.preprocessing.image import ImageDataGenerator\n",
    "import io\n",
    " # OCR Google Cloud api\n",
    "from google.cloud import vision"
   ]
  },
  {
   "cell_type": "code",
   "execution_count": 3,
   "id": "22cf300f",
   "metadata": {},
   "outputs": [],
   "source": [
    "# gTTS 음성파일 만들기\n",
    "# kor_wav = gTTS('주행 불가능 지역입니다', lang = 'ko') \n",
    "# kor_wav.save('impossible.wav')\n",
    "\n",
    "# kor_wav = gTTS('헬멧을 미착용하였습니다', lang = 'ko') \n",
    "# kor_wav.save('sound_file/no_helmet.wav')"
   ]
  },
  {
   "cell_type": "code",
   "execution_count": 4,
   "id": "1a2ec5e9",
   "metadata": {},
   "outputs": [],
   "source": [
    "#google cloud platform\n",
    "# !pip install opencv-contrib-python\n",
    "# !pip install --upgrade google-cloud-vision"
   ]
  },
  {
   "cell_type": "markdown",
   "id": "dda8ec71",
   "metadata": {},
   "source": [
    "# IP Webcam Web Crolling - 카메라 전환"
   ]
  },
  {
   "cell_type": "code",
   "execution_count": 5,
   "id": "cdecab40",
   "metadata": {},
   "outputs": [],
   "source": [
    "#크롬 드라이버로 창 열기\n",
    "# !pip install webdriver-manager\n",
    "from selenium import webdriver\n",
    "from webdriver_manager.chrome import ChromeDriverManager\n",
    "from bs4 import BeautifulSoup\n",
    "from selenium.webdriver.common.by import By"
   ]
  },
  {
   "cell_type": "code",
   "execution_count": 6,
   "id": "07e68277",
   "metadata": {},
   "outputs": [],
   "source": [
    "# ip 주소\n",
    "url = \"https://172.20.10.5:8080/video\"\n",
    "cap = cv2.VideoCapture(url)\n",
    "fps = cap.get(cv2.CAP_PROP_FPS)  # fps = 25.0"
   ]
  },
  {
   "cell_type": "code",
   "execution_count": 7,
   "id": "24651dcb",
   "metadata": {},
   "outputs": [],
   "source": [
    "driver = webdriver.Chrome(ChromeDriverManager().install())\n",
    "driver.get(url.split('/video')[0])\n",
    "\n",
    "#자세히 알아보기 클릭\n",
    "btn1=\"#details-button\"\n",
    "driver.find_elements(By.CSS_SELECTOR,btn1)[0].click()\n",
    "\n",
    "#안전하지 않음으로 이동 클릭\n",
    "btn2=\"#proceed-link\"\n",
    "driver.find_elements(By.CSS_SELECTOR,btn2)[0].click()\n",
    "#스피커 사용\n",
    "# btn3=\"body > div.jumbotron > div.container > div > form > div:nth-child(3) > label.round_switch > span\"\n",
    "# driver.find_elements(By.CSS_SELECTOR,btn3)[0].click()\n",
    "# 이부분은 양방향 음성을 On 하는 것인데, 소리가 울려서 일단 꺼둠\n",
    "#허용 클릭! 해주세요"
   ]
  },
  {
   "cell_type": "markdown",
   "id": "e968ae50",
   "metadata": {},
   "source": [
    "# Prepare : Yolo weight file, CNN Model load, OCR"
   ]
  },
  {
   "cell_type": "code",
   "execution_count": 8,
   "id": "8662faf7",
   "metadata": {},
   "outputs": [],
   "source": [
    "# CNN 모델 로드\n",
    "model = load_model('cnn_model/cnn_model_3class_final2.h5')"
   ]
  },
  {
   "cell_type": "code",
   "execution_count": 9,
   "id": "6d11b7bf",
   "metadata": {},
   "outputs": [],
   "source": [
    "# 학습된 yolo weight파일과 cfg 파일 가져오기\n",
    "net = cv2.dnn.readNet(\"Yolov4/yolov4-obj_1000.weights\", \"Yolov4/yolov4-obj.cfg\") # Helmet : 0, No Helmet : 1"
   ]
  },
  {
   "cell_type": "code",
   "execution_count": 10,
   "id": "13fe5731",
   "metadata": {
    "scrolled": true
   },
   "outputs": [
    {
     "name": "stdout",
     "output_type": "stream",
     "text": [
      "[[105.62274256   2.00640153 140.1098862 ]\n",
      " [195.73811954  32.26401563 247.49028541]]\n"
     ]
    }
   ],
   "source": [
    "# obj.names : Helmet/No_Helmet\n",
    "classes = []\n",
    "with open(\"Yolov4/obj.names\", \"r\") as f:\n",
    "    classes = [line.strip() for line in f.readlines()]\n",
    "layer_names = net.getLayerNames()\n",
    "output_layers = [layer_names[i - 1] for i in net.getUnconnectedOutLayers()]\n",
    "colors = np.random.uniform(0, 255, size=(len(classes), 3))\n",
    "print(colors)"
   ]
  },
  {
   "cell_type": "code",
   "execution_count": 11,
   "id": "92b1645e",
   "metadata": {},
   "outputs": [],
   "source": [
    "# Use google API - json 파일 가져오기\n",
    "os.environ['GOOGLE_APPLICATION_CREDENTIALS'] = '개인 key'\n",
    " \n",
    "client_options = {'api_endpoint': 'eu-vision.googleapis.com'}\n",
    "client = vision.ImageAnnotatorClient(client_options=client_options)"
   ]
  },
  {
   "cell_type": "code",
   "execution_count": 12,
   "id": "042d17c3",
   "metadata": {},
   "outputs": [],
   "source": [
    "# Empty capture folder\n",
    "# CNN capture 폴더 처음에 비워줘야 한다.\n",
    "for f in glob('capture/*.jpg'):\n",
    "    os.remove(f)"
   ]
  },
  {
   "cell_type": "markdown",
   "id": "02971613",
   "metadata": {},
   "source": [
    "# Yolov4 Define"
   ]
  },
  {
   "cell_type": "code",
   "execution_count": 13,
   "id": "92cd3624",
   "metadata": {},
   "outputs": [],
   "source": [
    "# Yolo 헬멧인식 경고음\n",
    "def sound():\n",
    "    display(Audio('sound_file/no_helmet.wav', autoplay=True))"
   ]
  },
  {
   "cell_type": "code",
   "execution_count": 14,
   "id": "52fb75bd",
   "metadata": {},
   "outputs": [],
   "source": [
    "# CNN 도로인식 경고음\n",
    "def sound2():\n",
    "    display(Audio('sound_file/impossible.wav', autoplay=True))"
   ]
  },
  {
   "cell_type": "markdown",
   "id": "637d7277",
   "metadata": {},
   "source": [
    "# OCR Define"
   ]
  },
  {
   "cell_type": "code",
   "execution_count": 15,
   "id": "e8df8440",
   "metadata": {},
   "outputs": [],
   "source": [
    "# OCR 어린이 보호구역 음성파일 만드는 함수\n",
    "def get_narrator(text):\n",
    "    tts = gTTS(text=text, lang='ko')\n",
    "    filename = 'sound_file/narrator.mp3'\n",
    "    tts.save(filename)\n",
    "    \n",
    "    display(Audio(filename, autoplay=True))\n",
    "    \n",
    "# get_narrator(\"어린이 보호구역입니다\")"
   ]
  },
  {
   "cell_type": "code",
   "execution_count": 16,
   "id": "a905ae56",
   "metadata": {},
   "outputs": [],
   "source": [
    "# OCR 인식중 '어린이'가 인식되는 경우 출력되는 함수\n",
    "def get_text(path):\n",
    "    result = []\n",
    "    \n",
    "    # Load image\n",
    "    with io.open(path, 'rb') as f:\n",
    "        content = f.read()\n",
    "    \n",
    "    # Get text from image\n",
    "    image = vision.Image(content=content)\n",
    "    response = client.text_detection(image=image)\n",
    "    texts = response.text_annotations\n",
    "    \n",
    "    for text in texts[1:]:\n",
    "        if text.description.isdigit():\n",
    "            if int(text.description) in [x for x in range(20, 90, 10)]:\n",
    "                result.append(text.description)\n",
    "        elif text.description=='어린이':\n",
    "            result.append(text.description)\n",
    "            \n",
    "    return result"
   ]
  },
  {
   "cell_type": "code",
   "execution_count": 17,
   "id": "c62f4b32",
   "metadata": {},
   "outputs": [],
   "source": [
    "def alert_speed_limit(texts):\n",
    "    message = []\n",
    "    digit_boolean = list(map(lambda x: x.isdigit(), texts))\n",
    "    if np.all(digit_boolean):  # 모두 숫자\n",
    "        for text in texts:\n",
    "            message.append(f\"제한속도 시속 {text}km 구간입니다\")\n",
    "    elif np.any(digit_boolean):  # '어린이' 하나 이상 포함\n",
    "        for text in np.array(texts)[digit_boolean]:\n",
    "            message.append(f\"어린이 보호구역입니다. 시속 {text}km로 주행하세요\")\n",
    "    else:\n",
    "        message.append(\"어린이 보호구역입니다\")\n",
    "        \n",
    "    for m in message:\n",
    "        get_narrator(m)  # tts 음성 파일 함수 호출"
   ]
  },
  {
   "cell_type": "markdown",
   "id": "d1372091",
   "metadata": {},
   "source": [
    "# CNN Define"
   ]
  },
  {
   "cell_type": "code",
   "execution_count": 18,
   "id": "a4fd246e",
   "metadata": {},
   "outputs": [],
   "source": [
    "# CNN test 이미지 전처리 후 predict하는 함수\n",
    "def predict_road(model):\n",
    "    df = pd.DataFrame({'image_path': glob('capture/*.jpg')})\n",
    "    \n",
    "    test_datagen = ImageDataGenerator(rescale=1/255.)\n",
    "    test_generator = test_datagen.flow_from_dataframe(\n",
    "        df,\n",
    "        x_col='image_path',\n",
    "        y_col='None',\n",
    "        target_size=(250, 250),\n",
    "        class_mode=None,\n",
    "        shuffle=False,\n",
    "    )\n",
    "    \n",
    "    pred = model.predict_generator(test_generator)\n",
    "    \n",
    "    return np.argmax(pred, axis=-1)\n",
    "\n",
    "# image.c 파일 열어서 validation filename print 주석 처리하여 안뜨게 함\n",
    "# C:\\Users\\tjdbs\\anaconda3\\Lib\\site-packages\\keras\\preprocessing"
   ]
  },
  {
   "cell_type": "code",
   "execution_count": 19,
   "id": "c1160d4f",
   "metadata": {},
   "outputs": [],
   "source": [
    "# CNN 도로인식 함수\n",
    "def CNN():    \n",
    "    global C\n",
    "#     flag = False\n",
    "    passibility = \"Passibility\"\n",
    "    color = (255, 255, 255)\n",
    "\n",
    "    cap = cv2.VideoCapture(url)\n",
    "\n",
    "    fps = cap.get(cv2.CAP_PROP_FPS)  # fps = 25.0\n",
    "\n",
    "    for f in glob('capture/*.jpg'):\n",
    "        os.remove(f)\n",
    "\n",
    "    C=[]\n",
    "    tmp=[]\n",
    "    while(True):\n",
    "        camera, frame = cap.read()\n",
    "        resize_frame = cv2.flip(frame, 0)\n",
    "        resize_frame = cv2.flip(frame, 1)\n",
    "\n",
    "        \n",
    "        if resize_frame is not None:\n",
    "\n",
    "            # Capture 5 images per 1 second - 1초에 5번 도로 캡쳐\n",
    "            if (int(cap.get(1)) % 5 == 0):\n",
    "                # Save image as 001 ~ 005.jpg\n",
    "                filename = f'{str(len(os.listdir(\"capture\"))%5 + 1).zfill(3)}.jpg'\n",
    "                cv2.imwrite(f'capture/{filename}', resize_frame)\n",
    "\n",
    "                # Get text from image (per 5 seconds)\n",
    "                if (int(cap.get(1)) % 125 == 0):  # 5 * fps\n",
    "                    if get_text(f'capture/{filename}'):\n",
    "                        alert_speed_limit(get_text(f'capture/{filename}'))  # OCR\n",
    "\n",
    "            if len(os.listdir('capture')) >= 5:\n",
    "                pred = predict_road(model)\n",
    "\n",
    "                # 삼중분류 CNN 모델\n",
    "                if np.all(pred == 1):   # 차도 =1\n",
    "                    passibility = \"Passible\"    \n",
    "                    color = (255, 0, 0)\n",
    "                elif np.all(pred == 2): # 인도 = 2\n",
    "                    passibility = \"Impassible\"   # 인도 주행 불가\n",
    "                    color = (0, 0, 255)\n",
    "                    C.append(np.all(pred == 2))  # 주행 불가능 횟수를 C에 append\n",
    "                else:                   # 자전거도로 = 0\n",
    "                    passibility = \"Passible\"\n",
    "                    color = (255, 0, 0)\n",
    "                    \n",
    "                for f in glob('capture/*.jpg'):\n",
    "                    os.remove(f)\n",
    "\n",
    "            cv2.putText(resize_frame, passibility, (50, 100), cv2.FONT_HERSHEY_SIMPLEX, 1, color, 2)\n",
    "            cv2.imshow(\"Frame\", resize_frame)\n",
    "\n",
    "            # Detect impassible road more than 5 times -> sound()\n",
    "            if (C.count(1) > 0) and (C.count(1) % 8 == 0):  # 변수 C에는 불법주행횟수가 카운트되어 누적된다.\n",
    "                if C.count(1) not in tmp:\n",
    "                    tmp.append(C.count(1))\n",
    "                    # C의 값이 8의 배수이고 0보다 클 때, 경고음을 출력하도록 구현\n",
    "                    print(\"불법 주행 인식 : \" + str(C.count(1)))\n",
    "                    sound2() # 불법주행도로 경고음\n",
    "\n",
    "        # To finish program(close windows), press q                     \n",
    "        q = cv2.waitKey(1)\n",
    "        if q == ord(\"q\"):\n",
    "            break\n",
    "    cv2.destroyAllWindows()"
   ]
  },
  {
   "cell_type": "markdown",
   "id": "0e00fc00",
   "metadata": {},
   "source": [
    "# main"
   ]
  },
  {
   "cell_type": "code",
   "execution_count": 21,
   "id": "d6a51610",
   "metadata": {
    "scrolled": true
   },
   "outputs": [
    {
     "name": "stdout",
     "output_type": "stream",
     "text": [
      "Helmet detected!!\n",
      "불법 주행 인식 : 8\n"
     ]
    },
    {
     "data": {
      "text/html": [
       "\n",
       "                <audio  controls=\"controls\" autoplay=\"autoplay\">\n",
       "                    <source src=\"data:audio/wav;base64,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\" type=\"audio/wav\" />\n",
       "                    Your browser does not support the audio element.\n",
       "                </audio>\n",
       "              "
      ],
      "text/plain": [
       "<IPython.lib.display.Audio object>"
      ]
     },
     "metadata": {},
     "output_type": "display_data"
    },
    {
     "data": {
      "text/html": [
       "\n",
       "                <audio  controls=\"controls\" autoplay=\"autoplay\">\n",
       "                    <source src=\"data:audio/mpeg;base64,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\" type=\"audio/mpeg\" />\n",
       "                    Your browser does not support the audio element.\n",
       "                </audio>\n",
       "              "
      ],
      "text/plain": [
       "<IPython.lib.display.Audio object>"
      ]
     },
     "metadata": {},
     "output_type": "display_data"
    },
    {
     "data": {
      "text/html": [
       "\n",
       "                <audio  controls=\"controls\" autoplay=\"autoplay\">\n",
       "                    <source src=\"data:audio/mpeg;base64,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\" type=\"audio/mpeg\" />\n",
       "                    Your browser does not support the audio element.\n",
       "                </audio>\n",
       "              "
      ],
      "text/plain": [
       "<IPython.lib.display.Audio object>"
      ]
     },
     "metadata": {},
     "output_type": "display_data"
    },
    {
     "name": "stdout",
     "output_type": "stream",
     "text": [
      "불법 주행 인식 : 16\n"
     ]
    },
    {
     "data": {
      "text/html": [
       "\n",
       "                <audio  controls=\"controls\" autoplay=\"autoplay\">\n",
       "                    <source src=\"data:audio/wav;base64,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\" type=\"audio/wav\" />\n",
       "                    Your browser does not support the audio element.\n",
       "                </audio>\n",
       "              "
      ],
      "text/plain": [
       "<IPython.lib.display.Audio object>"
      ]
     },
     "metadata": {},
     "output_type": "display_data"
    },
    {
     "data": {
      "text/html": [
       "\n",
       "                <audio  controls=\"controls\" autoplay=\"autoplay\">\n",
       "                    <source src=\"data:audio/mpeg;base64,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\" type=\"audio/mpeg\" />\n",
       "                    Your browser does not support the audio element.\n",
       "                </audio>\n",
       "              "
      ],
      "text/plain": [
       "<IPython.lib.display.Audio object>"
      ]
     },
     "metadata": {},
     "output_type": "display_data"
    },
    {
     "data": {
      "text/html": [
       "\n",
       "                <audio  controls=\"controls\" autoplay=\"autoplay\">\n",
       "                    <source src=\"data:audio/mpeg;base64,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\" type=\"audio/mpeg\" />\n",
       "                    Your browser does not support the audio element.\n",
       "                </audio>\n",
       "              "
      ],
      "text/plain": [
       "<IPython.lib.display.Audio object>"
      ]
     },
     "metadata": {},
     "output_type": "display_data"
    },
    {
     "name": "stdout",
     "output_type": "stream",
     "text": [
      "불법 주행 인식 : 24\n"
     ]
    },
    {
     "data": {
      "text/html": [
       "\n",
       "                <audio  controls=\"controls\" autoplay=\"autoplay\">\n",
       "                    <source src=\"data:audio/wav;base64,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\" type=\"audio/wav\" />\n",
       "                    Your browser does not support the audio element.\n",
       "                </audio>\n",
       "              "
      ],
      "text/plain": [
       "<IPython.lib.display.Audio object>"
      ]
     },
     "metadata": {},
     "output_type": "display_data"
    }
   ],
   "source": [
    "url = \"https://172.20.10.5:8080/video\"\n",
    "cap = cv2.VideoCapture(url)\n",
    "fps = cap.get(cv2.CAP_PROP_FPS)  # fps = 25.0\n",
    "\n",
    "cv2.namedWindow('camera_screenshot', cv2.WINDOW_AUTOSIZE)\n",
    "color = (255, 255, 255)\n",
    "\n",
    "while True:\n",
    "    camera, frame = cap.read()\n",
    "    \n",
    "    if not camera:\n",
    "        print(\"Can't read camera\")\n",
    "        break\n",
    "    \n",
    "    if int(cap.get(1) % fps == 0):\n",
    "        cv2.imwrite('face.jpg', frame)\n",
    "        \n",
    "        img = cv2.imread('face.jpg')\n",
    "        height, width, channels = img.shape\n",
    "        blob = cv2.dnn.blobFromImage(img, 0.00392, (250, 250), (0, 0, 0), True, crop=False)\n",
    "        net.setInput(blob)\n",
    "        outs = net.forward(output_layers)\n",
    "        \n",
    "        class_ids = []\n",
    "        for out in outs:\n",
    "            for detection in out:\n",
    "                scores = detection[5:]\n",
    "                class_id = np.argmax(scores)\n",
    "                confidence = scores[class_id]\n",
    "                if confidence > 0.5:\n",
    "                    class_ids.append(class_id)\n",
    "\n",
    "        if class_ids.count(0) >= 1:\n",
    "            print('Helmet detected!!')\n",
    "            time.sleep(0.3)\n",
    "            cv2.destroyAllWindows()\n",
    "            \n",
    "            #카메라 전환 버튼\n",
    "            btn_sw=\"#img_ffc_current\"\n",
    "            driver.find_elements(By.CSS_SELECTOR,btn_sw)[0].click()\n",
    "\n",
    "            # CNN 모델\n",
    "            CNN()\n",
    "            break\n",
    "            \n",
    "        else:\n",
    "            cv2.putText(frame, 'Please wear a helmet..', (50, 100), cv2.FONT_HERSHEY_SIMPLEX, 1, color, 2)\n",
    "            cv2.imshow(\"camera_screenshot\", frame)\n",
    "            \n",
    "            if int(cap.get(1) % 125 == 0):\n",
    "                print(\"헬멧 미착용\")\n",
    "                sound()\n",
    "    \n",
    "    cv2.putText(frame, 'Please wear a helmet..', (50, 100), cv2.FONT_HERSHEY_SIMPLEX, 1, color, 2)\n",
    "    cv2.imshow(\"camera_screenshot\", frame)\n",
    "                                                            \n",
    "    # 강제종료 q 키\n",
    "    if cv2.waitKey(1) == ord('q'):\n",
    "        break\n",
    "        \n",
    "cv2.destroyAllWindows()"
   ]
  },
  {
   "cell_type": "code",
   "execution_count": 20,
   "id": "6e177839",
   "metadata": {},
   "outputs": [],
   "source": [
    "#카메라 전환 버튼\n",
    "btn_sw=\"#img_ffc_current\"\n",
    "driver.find_elements(By.CSS_SELECTOR,btn_sw)[0].click()"
   ]
  },
  {
   "cell_type": "code",
   "execution_count": null,
   "id": "e338c373",
   "metadata": {},
   "outputs": [],
   "source": []
  }
 ],
 "metadata": {
  "kernelspec": {
   "display_name": "Python 3 (ipykernel)",
   "language": "python",
   "name": "python3"
  },
  "language_info": {
   "codemirror_mode": {
    "name": "ipython",
    "version": 3
   },
   "file_extension": ".py",
   "mimetype": "text/x-python",
   "name": "python",
   "nbconvert_exporter": "python",
   "pygments_lexer": "ipython3",
   "version": "3.9.12"
  }
 },
 "nbformat": 4,
 "nbformat_minor": 5
}
