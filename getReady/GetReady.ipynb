{
 "cells": [
  {
   "cell_type": "markdown",
   "id": "6a2ec1f8",
   "metadata": {},
   "source": [
    "# Yolo Import"
   ]
  },
  {
   "cell_type": "code",
   "execution_count": 1,
   "id": "0fe034cd",
   "metadata": {},
   "outputs": [],
   "source": [
    "# OpenCV \n",
    "import cv2\n",
    "import numpy as np\n",
    "import pandas as pd\n",
    "# 파일 경로 읽어오기\n",
    "from glob import glob\n",
    "import time\n",
    "# multi thread\n",
    "import threading\n",
    "# 이미지 가져오기\n",
    "import os\n",
    "from PIL import Image\n",
    "from tensorflow.keras.preprocessing import image\n",
    "# Sound 출력\n",
    "from gtts import gTTS\n",
    "from IPython.display import Audio\n",
    "# warning 무시\n",
    "import warnings\n",
    "warnings.filterwarnings(action='ignore') "
   ]
  },
  {
   "cell_type": "markdown",
   "id": "9df37d1a",
   "metadata": {},
   "source": [
    "# CNN & OCR Import"
   ]
  },
  {
   "cell_type": "code",
   "execution_count": 2,
   "id": "dc5a7e10",
   "metadata": {},
   "outputs": [],
   "source": [
    "# tensorflow : CNN model\n",
    "from tensorflow.keras.models import load_model\n",
    "from tensorflow.keras.preprocessing.image import ImageDataGenerator\n",
    "import io\n",
    " # OCR Google Cloud api\n",
    "from google.cloud import vision"
   ]
  },
  {
   "cell_type": "code",
   "execution_count": 3,
   "id": "22cf300f",
   "metadata": {},
   "outputs": [],
   "source": [
    "# gTTS 음성파일 만들기\n",
    "# kor_wav = gTTS('주행 불가능 지역입니다', lang = 'ko') \n",
    "# kor_wav.save('impossible.wav')\n",
    "\n",
    "# kor_wav = gTTS('헬멧을 미착용하였습니다', lang = 'ko') \n",
    "# kor_wav.save('sound_file/no_helmet.wav')"
   ]
  },
  {
   "cell_type": "code",
   "execution_count": 4,
   "id": "1a2ec5e9",
   "metadata": {},
   "outputs": [],
   "source": [
    "#google cloud platform\n",
    "# !pip install opencv-contrib-python\n",
    "# !pip install --upgrade google-cloud-vision"
   ]
  },
  {
   "cell_type": "markdown",
   "id": "dda8ec71",
   "metadata": {},
   "source": [
    "# IP Webcam Web Crolling - 카메라 전환"
   ]
  },
  {
   "cell_type": "code",
   "execution_count": 5,
   "id": "cdecab40",
   "metadata": {},
   "outputs": [],
   "source": [
    "#크롬 드라이버로 창 열기\n",
    "# !pip install webdriver-manager\n",
    "from selenium import webdriver\n",
    "from webdriver_manager.chrome import ChromeDriverManager\n",
    "from bs4 import BeautifulSoup\n",
    "from selenium.webdriver.common.by import By"
   ]
  },
  {
   "cell_type": "code",
   "execution_count": 6,
   "id": "07e68277",
   "metadata": {},
   "outputs": [],
   "source": [
    "# ip 주소\n",
    "url = \"https://192.168.34.121:8080/video\"\n",
    "cap = cv2.VideoCapture(url)\n",
    "fps = cap.get(cv2.CAP_PROP_FPS)  # fps = 25.0"
   ]
  },
  {
   "cell_type": "code",
   "execution_count": 7,
   "id": "24651dcb",
   "metadata": {},
   "outputs": [],
   "source": [
    "driver = webdriver.Chrome(ChromeDriverManager().install())\n",
    "driver.get(url.split('/video')[0])\n",
    "\n",
    "#자세히 알아보기 클릭\n",
    "btn1=\"#details-button\"\n",
    "driver.find_elements(By.CSS_SELECTOR,btn1)[0].click()\n",
    "\n",
    "#안전하지 않음으로 이동 클릭\n",
    "btn2=\"#proceed-link\"\n",
    "driver.find_elements(By.CSS_SELECTOR,btn2)[0].click()\n",
    "#스피커 사용\n",
    "# btn3=\"body > div.jumbotron > div.container > div > form > div:nth-child(3) > label.round_switch > span\"\n",
    "# driver.find_elements(By.CSS_SELECTOR,btn3)[0].click()\n",
    "# 이부분은 양방향 음성을 On 하는 것인데, 소리가 울려서 일단 꺼둠\n",
    "#허용 클릭! 해주세요"
   ]
  },
  {
   "cell_type": "markdown",
   "id": "e968ae50",
   "metadata": {},
   "source": [
    "# Prepare : Yolo weight file, CNN Model load, OCR"
   ]
  },
  {
   "cell_type": "code",
   "execution_count": 8,
   "id": "8662faf7",
   "metadata": {},
   "outputs": [],
   "source": [
    "# CNN 모델 로드\n",
    "model = load_model('cnn_model/cnn_model_3class_final2.h5')"
   ]
  },
  {
   "cell_type": "code",
   "execution_count": 9,
   "id": "6d11b7bf",
   "metadata": {},
   "outputs": [],
   "source": [
    "# 학습된 yolo weight파일과 cfg 파일 가져오기\n",
    "net = cv2.dnn.readNet(\"Yolov4/yolov4-obj_1000.weights\", \"Yolov4/yolov4-obj.cfg\") # Helmet : 0, No Helmet : 1"
   ]
  },
  {
   "cell_type": "code",
   "execution_count": 10,
   "id": "13fe5731",
   "metadata": {
    "scrolled": true
   },
   "outputs": [
    {
     "name": "stdout",
     "output_type": "stream",
     "text": [
      "[[225.66125958  60.2858682   26.38798397]\n",
      " [236.429773   183.90282426  26.26334441]]\n"
     ]
    }
   ],
   "source": [
    "# obj.names : Helmet/No_Helmet\n",
    "classes = []\n",
    "with open(\"Yolov4/obj.names\", \"r\") as f:\n",
    "    classes = [line.strip() for line in f.readlines()]\n",
    "layer_names = net.getLayerNames()\n",
    "output_layers = [layer_names[i - 1] for i in net.getUnconnectedOutLayers()]\n",
    "colors = np.random.uniform(0, 255, size=(len(classes), 3))\n",
    "print(colors)"
   ]
  },
  {
   "cell_type": "code",
   "execution_count": 11,
   "id": "92b1645e",
   "metadata": {},
   "outputs": [],
   "source": [
    "# Use google API - json 파일 가져오기\n",
    "os.environ['GOOGLE_APPLICATION_CREDENTIALS'] = 'OCR/finalproject-375105-31a5d0d9f5a3.json'\n",
    " \n",
    "client_options = {'api_endpoint': 'eu-vision.googleapis.com'}\n",
    "client = vision.ImageAnnotatorClient(client_options=client_options)"
   ]
  },
  {
   "cell_type": "code",
   "execution_count": 12,
   "id": "042d17c3",
   "metadata": {},
   "outputs": [],
   "source": [
    "# Empty capture folder\n",
    "# CNN capture 폴더 처음에 비워줘야 한다.\n",
    "for f in glob('capture/*.jpg'):\n",
    "    os.remove(f)"
   ]
  },
  {
   "cell_type": "markdown",
   "id": "02971613",
   "metadata": {},
   "source": [
    "# Yolov4 Define"
   ]
  },
  {
   "cell_type": "code",
   "execution_count": 15,
   "id": "92cd3624",
   "metadata": {},
   "outputs": [],
   "source": [
    "# Yolo 헬멧인식 경고음\n",
    "def sound():\n",
    "    display(Audio('sound_file/no_helmet.wav', autoplay=True))"
   ]
  },
  {
   "cell_type": "code",
   "execution_count": 16,
   "id": "52fb75bd",
   "metadata": {},
   "outputs": [],
   "source": [
    "# CNN 도로인식 경고음\n",
    "def sound2():\n",
    "    display(Audio('sound_file/impossible.wav', autoplay=True))"
   ]
  },
  {
   "cell_type": "markdown",
   "id": "637d7277",
   "metadata": {},
   "source": [
    "# OCR Define"
   ]
  },
  {
   "cell_type": "code",
   "execution_count": 18,
   "id": "e8df8440",
   "metadata": {},
   "outputs": [],
   "source": [
    "# OCR 어린이 보호구역 음성파일 만드는 함수\n",
    "def get_narrator(text):\n",
    "    tts = gTTS(text=text, lang='ko')\n",
    "    filename = 'sound_file/narrator.mp3'\n",
    "    tts.save(filename)\n",
    "    \n",
    "    display(Audio(filename, autoplay=True))\n",
    "    \n",
    "# get_narrator(\"어린이 보호구역입니다\")"
   ]
  },
  {
   "cell_type": "code",
   "execution_count": 19,
   "id": "a905ae56",
   "metadata": {},
   "outputs": [],
   "source": [
    "# OCR 인식중 '어린이'가 인식되는 경우 출력되는 함수\n",
    "def get_text(path):\n",
    "    result = []\n",
    "    \n",
    "    # Load image\n",
    "    with io.open(path, 'rb') as f:\n",
    "        content = f.read()\n",
    "    \n",
    "    # Get text from image\n",
    "    image = vision.Image(content=content)\n",
    "    response = client.text_detection(image=image)\n",
    "    texts = response.text_annotations\n",
    "    \n",
    "    for text in texts[1:]:\n",
    "        if text.description.isdigit():\n",
    "            if int(text.description) in [x for x in range(20, 90, 10)]:\n",
    "                result.append(text.description)\n",
    "        elif text.description=='어린이':\n",
    "            result.append(text.description)\n",
    "            \n",
    "    return result"
   ]
  },
  {
   "cell_type": "code",
   "execution_count": 20,
   "id": "c62f4b32",
   "metadata": {},
   "outputs": [],
   "source": [
    "def alert_speed_limit(texts):\n",
    "    message = []\n",
    "    digit_boolean = list(map(lambda x: x.isdigit(), texts))\n",
    "    if np.all(digit_boolean):  # 모두 숫자\n",
    "        for text in texts:\n",
    "            message.append(f\"제한속도 시속 {text}km 구간입니다\")\n",
    "    elif np.any(digit_boolean):  # '어린이' 하나 이상 포함\n",
    "        for text in np.array(texts)[digit_boolean]:\n",
    "            message.append(f\"어린이 보호구역입니다. 시속 {text}km로 주행하세요\")\n",
    "    else:\n",
    "        message.append(\"어린이 보호구역입니다\")\n",
    "        \n",
    "    for m in message:\n",
    "        get_narrator(m)  # tts 음성 파일 함수 호출"
   ]
  },
  {
   "cell_type": "markdown",
   "id": "d1372091",
   "metadata": {},
   "source": [
    "# CNN Define"
   ]
  },
  {
   "cell_type": "code",
   "execution_count": 21,
   "id": "a4fd246e",
   "metadata": {},
   "outputs": [],
   "source": [
    "# CNN test 이미지 전처리 후 predict하는 함수\n",
    "def predict_road(model):\n",
    "    df = pd.DataFrame({'image_path': glob('capture/*.jpg')})\n",
    "    \n",
    "    test_datagen = ImageDataGenerator(rescale=1/255.)\n",
    "    test_generator = test_datagen.flow_from_dataframe(\n",
    "        df,\n",
    "        x_col='image_path',\n",
    "        y_col='None',\n",
    "        target_size=(250, 250),\n",
    "        class_mode=None,\n",
    "        shuffle=False,\n",
    "    )\n",
    "    \n",
    "    pred = model.predict_generator(test_generator)\n",
    "    \n",
    "    return np.argmax(pred, axis=-1)\n",
    "\n",
    "# image.c 파일 열어서 validation filename print 주석 처리하여 안뜨게 함\n",
    "# C:\\Users\\tjdbs\\anaconda3\\Lib\\site-packages\\keras\\preprocessing"
   ]
  },
  {
   "cell_type": "code",
   "execution_count": 37,
   "id": "c1160d4f",
   "metadata": {},
   "outputs": [],
   "source": [
    "# CNN 도로인식 함수\n",
    "def CNN():    \n",
    "    global C\n",
    "#     flag = False\n",
    "    passibility = \"Passibility\"\n",
    "    color = (255, 255, 255)\n",
    "\n",
    "    cap = cv2.VideoCapture(url)\n",
    "\n",
    "    fps = cap.get(cv2.CAP_PROP_FPS)  # fps = 25.0\n",
    "\n",
    "    for f in glob('capture/*.jpg'):\n",
    "        os.remove(f)\n",
    "\n",
    "    C=[]\n",
    "    tmp=[]\n",
    "    while(True):\n",
    "        camera, frame = cap.read()\n",
    "        resize_frame = cv2.flip(frame, 0)\n",
    "        \n",
    "        if resize_frame is not None:\n",
    "\n",
    "            # Capture 5 images per 1 second - 1초에 5번 도로 캡쳐\n",
    "            if (int(cap.get(1)) % 5 == 0):\n",
    "                # Save image as 001 ~ 005.jpg\n",
    "                filename = f'{str(len(os.listdir(\"capture\"))%5 + 1).zfill(3)}.jpg'\n",
    "                cv2.imwrite(f'capture/{filename}', resize_frame)\n",
    "\n",
    "                # Get text from image (per 5 seconds)\n",
    "                if (int(cap.get(1)) % 125 == 0):  # 5 * fps\n",
    "                    if get_text(f'capture/{filename}'):\n",
    "                        alert_speed_limit(get_text(f'capture/{filename}'))  # OCR\n",
    "\n",
    "            if len(os.listdir('capture')) >= 5:\n",
    "                pred = predict_road(model)\n",
    "\n",
    "                # 삼중분류 모델\n",
    "                if np.all(pred == 1):   # 차도\n",
    "                    passibility = \"Passible\"    # drivable(주행 가능 지역)\n",
    "                    color = (255, 0, 0)\n",
    "                elif np.all(pred == 2): # 인도\n",
    "                    passibility = \"Impassible\"  # unable to drive(주행 불가능 지역)\n",
    "                    color = (0, 0, 255)\n",
    "                    C.append(np.all(pred == 2))  # 주행 불가능인 경우를 C에 append\n",
    "                else:                   # 자전거도로\n",
    "                    passibility = \"Passible\"\n",
    "                    color = (255, 0, 0)\n",
    "                    \n",
    "                for f in glob('capture/*.jpg'):\n",
    "                    os.remove(f)\n",
    "\n",
    "            cv2.putText(resize_frame, passibility, (50, 100), cv2.FONT_HERSHEY_SIMPLEX, 1, color, 2)\n",
    "            cv2.imshow(\"Frame\", resize_frame)\n",
    "\n",
    "            # Detect impassible road more than 5 times -> sound()\n",
    "            if (C.count(1) > 0) and (C.count(1) % 8 == 0): \n",
    "                if C.count(1) not in tmp:\n",
    "                    tmp.append(C.count(1))\n",
    "                    #  변수 C에는 불법주행 횟수를 누적, 계속 누적하기 때문에 C.count(1) > 4 이런식으로 하면 경고음이 계속 울릴 것\n",
    "                    # 따라서 C의 값이 20의 배수일 때, 경고음을 출력하도록 구현\n",
    "                    print(\"불법 주행 인식 : \" + str(C.count(1)))\n",
    "                    sound2() # 불법주행도로 경고음display(Audio('sound_file/impossible.wav', autoplay=True))\n",
    "\n",
    "#             break   # 경고음 출력하면 break -> 계속 진행하려면 없앰\n",
    "\n",
    "        # To finish program(close windows), press q                     \n",
    "        q = cv2.waitKey(1)\n",
    "        if q == ord(\"q\"):\n",
    "            break\n",
    "    cv2.destroyAllWindows()"
   ]
  },
  {
   "cell_type": "markdown",
   "id": "0e00fc00",
   "metadata": {},
   "source": [
    "# main"
   ]
  },
  {
   "cell_type": "code",
   "execution_count": 39,
   "id": "d6a51610",
   "metadata": {
    "scrolled": true
   },
   "outputs": [
    {
     "name": "stdout",
     "output_type": "stream",
     "text": [
      "Helmet detected!!\n",
      "불법 주행 인식 : 8\n"
     ]
    },
    {
     "data": {
      "text/html": [
       "\n",
       "                <audio  controls=\"controls\" autoplay=\"autoplay\">\n",
       "                    <source src=\"data:audio/wav;base64,//NExAASYxH8AGCEuRgmIg7mAFyUJIvH8SCumUxrNwWxyKZjyZFf1fp2o3+v9v//+Rs7zzyEJyZzv//V/0a89d7U/r7//6ZCEOc5znOcWAAAAAAAAACFO3gRpWJAsBDa//NExAkR4FIwAVsYAPd1IPkNNNXbFqrlXwt39sMuS6y2XC80aWX+D1b4nRDNe4YUa1DC/cLFKm40PrfQgVbo0yhAaf5thttxk5Ph9SkMyz6L7L+h3///0fr/V66GHNEj//NExBQWqyqkAYc4APlh8yeeaNwkMHgySHv+TcxkMtHRLFCMcQIt//M2U89lcghYxzx08fHBEPFn//qeYYzmM5jHo2OjQZB+OCMI4tEsJxIB2JRiJf////////kydVdU//NExAwU8xrAAcEQACJO0DECRzvoWZXIpM7zM5HsiWSj2eDsEZDJZ1nyHQ7K15yoQwIBOaUwcWHA3FDiFMVzkAUgjAw7AmYKGQI7hzMCKMhAhDMHphn5//+np//97aoQ//NExAsS8vbEAAiGucjWspI5jXMmjA0QNqqvlGMoWk6fPO8L48znXrRtZ63LuwZlW8VTFEJJxwhLDBEYNxmqNUsctsWbSBdDKKWO+w/CDPmSYq/P+0svmJvlqyAZ4AiE//NExBIT8wa8AAhGuW2iZZGOCArw0vDm0P1LJ4xldfzL1RvRudN/X5SJGMxNDI6xJsPSokUiVjak2akpjqsNlOM9DaG0vojAm7uSyxWDMYWP2XDdeAGvy/PX/vPuZ9Pi//NExBUX6rqwAMDGuTBAinvum4tpKmaBEcOyjwGoUi55942FWgB6kux/D/y/VP/n5ZflNlbUrD2+nCMKeSMKOU1MSS9U6MT3KVUPPImDNKC8FN2x2Kcm1eUA6bBa5iyn//NExAgT4T6oANMYcEHQXsbICDDLLYrf/je2j/+FjpRzitzVI/rh7Ji5DMHDorq2S8W4RqESVJbeuf/diLN+czKv2vTtY6C8PKX////1fU8FVP/+pbMeIITUOf22JrVo//NExAsSiUqsAMvQlJGemyW1EZF9035X36j/Uucne6+zG2wDFo/HfHkL45frXOwAK0gOjDi6sdzfC+RyXVQblhvg3K////XZ/od/9arHrDScK9jxhEB/aczQVRmdbBr6//NExBMSkU6wANMWlCDyGpmFqdPpks/LEfDQqqXQPRpADkeAeXNCYkQFY+00sZli0x/6bdr5tZipQyi+6UZ///+Lu/qqwoSoABjZjhgg14DEdUcvRKQfJH/VMyl+WXMa//NExBsR2Uq4AMsSlC3eyrrLo4QVONKYTGkZy/ohkmApTDhduSc/H+/41nr+bDiqjmYh8F////mRtcOO0HrwfdSZVe/QqYovf5DeeWFz8Jn3mBrtuvWFrL2/rHlP0ljp//NExCYR0Uq4AMvSlOjdL3Fw5zKiDEIpJO4Tt2tD/+NQvNzN6bDFuQDAf///+hX9QSbzEJrEKTBvgIFnU+ojC/lLa6438a+Y2swXDXk14M+UUStnclIPxwbQoYgTARgi//NExDESSWK0AMvSlBs2VHBP8z+vlsQ9/q7SIu3CaCHfn///i6rn4Gzjn46Qj/yDTaLYvqvGvKcrrTche8N2vVo/lify/KlxhfNBbVz4UG6B3duoGHngWLDRkW5memzf//NExDoSqV6wAMvYlM7Sd69TldWqX6srODT///9Fx+OHFJC9DAwsFfhsy1GbblcV1g3Jup1dvM+u83/mL74/li6gq5m2nBxPgwABWeBw3QOmZ1idX///X8bzVZqIOBzq//NExEIQWUqwAMvWlaCCRkEcG23aTAFM+lkZImSCs0TBC6ybAZ8lmHnCBdsQ731VOavmn+W6FiIzNUi7Q2OrxNUJXRzJY62B9GylNT82oOgqGv////6ajUJMDNzkUhC8//NExFMSYPacANMecBAwZ0NpYIIwUqwQ1sGmqYYn5LXhK0JZC2O5Wd1hnOhRUvqlZpDNmL1vRDjdKWKxTCaDiWy5CWNShg/6x6f///1VZS04ymEBMwQHM++QoChQzCFR//NExFwSWPKUANvYcOBhADGXzCyHweBYzcMUymdLHaqEaXRKFaek7lulpaQpcwYFpL5cI06CiuiayMZStSGQa3mOHVJ8oN+UUmxNxMnaMGCMbDOoBCwEe9JDDBJlqj4C//NExGUTaPqMANPecDOTEysZ2LBcFEeheVafkZNo54gGJ9qa5DlkdVuQR+fXL9ITMwSBSSxmaOPcCgOib9qHUVf///+ijSZBqSKgFMAhQwJFTFAgmWIhFUIoGq2LLgoV//NExGoTsPaMANPYcEmZFXCTmRaphlhnW4kdxxfnLymtqW1ndJkmTDTQMohIDTR/Aqq/0Iu69n//0fm9VV5io4+aYveFmA0GMorDCI4PBR5x19B8eD8wUT54cQ6J3PaY//NExG4SmPaIANvScLlcrWZ5krZnNoZ2EjiJgGAwtCv/f+sJPKsO//8Yh5EZtclIAwqw3rc7zE4mkygYEkBY0W1iy7UAKBAZHyUERKKY6oj663e3LTM/1Z3WWrKAlCug//NExHYRQO6AANMKcBHVltFqntUiJf7W/7NV+lpFB4JDnsUqBeY6LQwYot0c9wpou64wL5dTX9dxwrcx5rvPx2/Vvfsv6U9J09W1S+7cTtlM9tmk8t1cJ3dBGFEV/U/v//NExIQRyOpYANMEcB8XGaUVJkGcg/hyDvjBh/fafD4UIUn/y+2+jYuO8ijAMmB6YYk8uFEiY4wwIDfQuaEHfMGSPG4WjjkCTBfMOQ/J92VlUPXHGPwyBU/t+MuQMTuV//NExI8QGUZAAVoQAAzNyR/9kF3sxbKY8mBBCDmRTGh///QQ6RoK3FlkHEAERz0CZJNL///st399CQc+iT4uQwSSKlZAFS+NR8dWrFHZPRZMLEw7DGvP0onplY1ikB46//NExKEhkypoAZmQABVoYNRnkP4yPz1yyvLLKAvZiKa5le8vWNO2yO+OVaZjo4v2n5FuMV+cmHf2ZrfMne2/Zb57aZbevv5OTX6UtSJ/s6J+HZXza3uzZz/3aIrTzvZZ//NExG0hOxaUAcxgANrZzpq9Z153Kt+1Hv9OVY2Y/gp9OpB7GtvsYKHIEhWAQAOo4Cm79w3v2dZLm2l0yImFwyQMRiwjOEjYOS/GfUyrEpkRiyNqSEARdnSkwt8jF2/M//NExDsVEMakAMJMcG08p4ttODg8NCrB44VEIcRgIeBFhlMgyLpqlrSiHkUfH2GHxE9ZQYsQUZ4m0g8+kb2O95k3LZVj6GeLi2CqVMoc5oXgfCDw8dJQMImB8PyqA8to//NExDkXiOqYANPYcGBu9S2zJ5Q1yp4HrCBQBN+3/9PSAakCta3Ihpq3LgseijyK9kjVu0QhxCayoI4wlomwrVFo0mT8PvC+596jOfyxzuiUKJ/cfMO4DKjZChDw8HMH//NExC0VYPqYANPecEaMovEcxjj0PA42QqKden6RZ7sr/iokKnFTQjAxITO///6hIKpR7zKF7XKlQ2jLSooJS04gNCN7UqCP9Y70P8T/i+cUfqz4VMdy0RHBPDySqYMl//NExCoRCPKoAMsYcGHcyAUPdjI99au6r2CO8R2oHnFAmJ////lUKvqlXQubLiVgMHkTWAFNubBdhDiZ448auoWxUXt0bL0vMJxEriIWHGzS3QnW6K7d4Ortev/863mb//NExDgRyT6kAMnecPmzu3szaAz3f/+/9bgz9NW3SiGASeh8QlIXQ+mUyWdglBDCWxOt2535R4hEkRHoTL41C1lG1iVDBUl6bGV1rWVZAbor6HsDwJsZ6/dr/pCPa6uj//NExEMRINakAMmScDqVblKSIKIFocCHm8TRrVh/lFT8T+W1h+i9YvS66DxVKa8uGYgDoJwUEuCYuX/V+j4XOHFs63/G7idcSLFTU5b///9l3RdpJ62xg3EJWGgZgqDm//NExFERsMqkAHsYcEgMph5AeaBSdjGnvEpYIlFXXyqvWkPcHy5BzkvBoM3Vxfe86U0onVfAcoLb4jr7rKANl4EdmVhgDAgNP///9ar6j1mKQtvcdEoUPLWUpAZWEVkJ//NExF0SSO6sAMvYcBE8M4IuSNoPFVJNg9UI1ccCWiyFsmvpz+nLWJaVkQ8+gwZKRLvT/j1GfH5fbEzL03rZ///qrsLsFDG0euqPIy1MYeIvcsEBxWbXzN3zBK/8zd+U//NExGYSMVa0ANPWlGrrALom9Mha67lQd+du9ZYTeZDzdx3EDCuKDLLj1tUX/rMTeserTqWY0f//8hXlaGTq8mJg5YPVZnYbJ+4UIiSge9Fe/SZetW0056P1k/hEtsgO//NExHASmWK0AMvalPTlKngt4goz+Qa/Jh+IIN1GAlXzE/529GPj8w9IytqJwS///9dKrccM3UMFH16iIjLEFWMmGQhYCeEolF1wlBCPtVpddaLTWnK05UHSJaLIImVg//NExHgSqVawAMPWlNE2xd6LNemmtDxqUnk00IN42KK/79hPBZp0RkCJN4ZBm6pbmcD6nL1PKPEwua6E8Oimixt9nhrR+ynBaVFqvbZCdq+SCQtJb0TZm5udSdV+mDos//NExIARQPqgANMScVkkCSL3fSRRn///+urk2xA2cAD1FN3VMHoCwJeicwLSp9XE9h4tJKBQcqzp1KWn99kLqVXZaQ9mLIUgG9pmRAEL/voicEEhEVXywe3DTc3X66Tx//NExI4R0PKUANvYcLLJWoCB8VAowOgVydTDzzSg8Y1j1MH4tkIwUVBsaLY2csRnM//////9zmMUnYigVMkwyv/0EHpUH5NJCoFh5lJhMKLdrQnkMJCxpgZAh4ZKqCQh//NExJkgYh6UANYUmB96DGJq1V6QcV89XWGcyzbjfxmnpv8Xk6Nm0m6PGkMQEJFy27qerHsLrIVJ0FZRekpwmoCJCnMky4eZIkizMXrUo6SI1EoZE0YRSzxT1IN///////NExGofOi6UAN4amP1romB5JZotjp8tDr//texLKDG3KmeiOlBzC9TZRGljwa90RBJWNBtNMlg7Ucrg6SRb92+b44V/+u1fxyXV+miqISnkBF+sux1qCcZxNETUJiDk//NExEAXqVKYAN4alE0h+CWRqbWe76S6zpZRMkZ2j//+eU1T731Enf/6F0p3IMQ7haFgJDtwWHAxRBwzYe8Y8OTrcLBOqPVgZcS0p+T+OJW3TN/2uXfXKVjeHK9uxxI2//NExDQUEPKMAOPecM7VDAyHyfXU5CnY15f6zrFP+n//ocCT8O8KKaUq1LGHmSQILH2gNGFWROSUQgxkKVF+FnC0kwVzlrmr7rkxN3YXP+Jf+Dn999QYmryIOPo90FHj//NExDYRKO6QANvecBIWe67//T//6zAs300ORYCiKcxruwDxNNbuaFaiTKE3jPA0rZrLxWpVm1rLm47hKB7fa4n/a3+Xtd367PogJtIAFEyZOIB4+xT//1Uf//CdduuK//NExEQRaO6UANPScBxajaR4BEzb+AwEUSsKgujJIl9jocNAUuoZe7ucOSucxctps7jWlytXHz7djVN7lOl9rIGgtNPP//Y801jyEqz/6xDaAhadki7l1TAghzvYyRwy//NExFESCOqMAVtAAIxqH8Kj0YnhIYTgGj8BQyHQCMBAZHABVqCgCvtGn5yC6gXInIwpsVGKCJIFE4TJqkgg7rOpl80CpG63QOPZFx2IF4ml01NDimTTsyCrrUi1b0n1//NExFsh8ppcAZ1oALq9zVFnMy8kkuyn2U1/1MplJLopGyBqvfdS9Va07rV1odmWlOnRLsuAjk/YXRmLVCmO8YJzQ2Vp37mf2X/9v/t/6VTVP71MRjHVCAeFR8Z/sw/P//NExCYa8yqoAY1QADx4aTsVIQGxkBCFssF6Cx9/zDEFgwjJmNc8fiSNAbxVFkKEfBZJQdHRp//5xIhkwoYg8LOQFsFgOEIg1EkG8Q4zH5OePz3iX//////////2/7PO//NExA0T0trIAcIoAaqHRiMimEixk5ymY5RYaeKEdR5GOcrjzIVnIw44wXHlGCzi8ypFTFNFSmlFrHLOchx5TO9TMJCZYCM6IwjrmBnIcJXi////f/8t//8/InMsj//s//NExBARchrIAAhGmc5ncxYNuxkfIiN1GQMCNs6rFi4wZqE3VxRMehgxYSCgy5T4gLONDXLKCgtFlCttwklqtX+abTMA4OIEd2e3////80SP32ZzLwi2OTt52hSHmYWF//NExB0Q6aa8AChElUE3dnqaSpQpAIG2Sh6xdt2KE365jWTBjZw3VTV9f5tCrR0vod/RivxHXj3rCEwiA15iEnvxTH8LnLPkW9Xo1dUYODRcAxIXUX/7Ok8QrGA2cIgg//NExCwSIUq0AMFGlDmTuYAIIKOGAE3PSKhWEw1bU/oK5XLCxr2/+1i6xtl0StsVNbU4ac4mcKlaH3XM2mCUvrmFaTnD1nrrKR9MYA+MQJYpEnHiCuXpJDFUfaXQrCNC//NExDYSYUqsAMNSlKnHUxLsUojwZBo0KBQBJ///y7aaxlQ4sk1EQsun3KRBqHQRVsA5q+0bYWR7Fv2x0Lcl/aBzF68gq9B1JAXjN9a/92JWqzJt9dfa7vXqttBO/Vo6//NExD8ScUa0AMpYcF7SEvLhl////lRa3iO2T7uJ2laZsUSSPadUVpyxHe9SmraJ79WlCUzX2aUOhwOiUEyuRBLBiavD6p3GExgw4aiecUXEfP8/RfZd8ewksmRtA5kV//NExEgR6VK0AMMMlfsoNBp8WdEsxRNZMdailAVGby6bqP+S97Uqk1k4bShgKBeGKtRzdrl7Cy9aNWzqrbZywgoGOk0IjZ/+tUev9+lE7ZLKLAwOf//+hc6gqKeoDvt0//NExFMSoU60AMvMlCU2INbMqWBY2Mgp49H2QZh9jlViOaAe0bmAC8HAnBmhbpiWqyZyk1a60HsvVDLHOR9b/n6eet9bVmJpjMZqv6Ghccd7JpIOHHAMUgcFNTnQYu1m//NExFsR8VqsAMwSlDLTaktiM4/ru0sSd6eu0XScExBYkEhFJU1pOktq6VExpHHRSdFv+31PXebKSMnBV3///qUQwkEHowUuzFoIMLEMweNyIkGHguYiHg0ITBoAUMXJ//NExGYRoVacAVloAC0aA8OMSkLmgxkFrEYHgcHcSgAqnScIIUx+LSTMiCamzm5kUDdA6gQUgn4Vcl3rZa3Z6pomgXzDqWzaTs2ShfLVITD//VzQ+yaaCDJ/9/1frQQp//NExHIg8ypwAZxoAKdBu37//9X/u6aZcQqNFDnM3REQBAhFIaBA5weAjuMvQgaeBpW4XreVy3VbZSfOxRCKs3dK+lOX2FcXhHF2j0zQkMCzK2HKylJHCALrqvPCqmc3//NExEEhwvqUAZlIAX3LK7UZcNhdGjbJ0aZJ4et+oiSxA68hpfW6hvUn7n9r5/+pCG5PYQ915uoq65SqTWb7/vMuqr/z9ZcJ7sI35/uTBy5QvtuaaUaTBtV8nEqBvkEW//NExA0UKU6gAdhIALrjtSx7ezlesMMc8t56zhH1H7f9QtRRVFywEBgH5xXnSkLrznvp5RAubTxdafgRyREZMXDapC86V0Q1f/qSs7/s/91arS8YhqeUdK2DyGCBGnDM//NExA8UqVqcANMYlEESIHksiqKXzsqslelIvhzvrNe3vtmRs2SnhNVgglCiF191i2HnLX4cl52pi+ctYm6q2SnTQujTpNYjDrv//+3+r/9FgAdImnqFzzT4zTDQoQOW//NExA8VwVKIANMSlABIEGI1rUSG0HxI+IJwC4hFoSxsUCUViqhHcR4ua2sXdAdNnKgtHzJZEHQNDIpccJcksi2MY/9ZpNDi0a2MbIUMELPBr///6k9gUEhuiYoFHmGw//NExAsSqO54ANvScLBJgDgAjogHhISLkgo2L8hq+T4uZXm8UhBjkMo/HMyEWbZcjZjsPVxDrSbyFcUo0JiwIAUQKCqBPtdLfVdIoKpwwI0HYCZgjwFzsEFhmQqYAGGF//NExBMSaN54ANvScAuW7MJDE4w3pDlVhYYA4pS/Tm9VMMRuH6XfCn8eNIW1kcjcj8ETYpeFS4ZTZm0GRlX+7////01PQZtiNlBmYZqPErENHggPEViEjTTJQsx4DMRh//NExBwSEOZwANvScKgXC+UatGGdJf1DtWsKecX0XrxnJ1K0Vw6hQIiQNEAaFCJQq3ElXf/Me2hiFZsLrAZwBeCDkAQkwsaCo8PBCZpQBNQDJZ4lsgPaJjAs4mSWeJ3q//NExCYRONZ8ANsGcK3zLw40bbWUEJQZDoHYuLn0AQMtaLBJhD2///0/0yCBBUgRhCFoNRFFiJAosTDBgIyZbFr/CI8AQUSHDxzsYhXbr/2vHxeqPZWZvmUHILoe1rWK//NExDQQmVqMANFKlOguMsY1v//937v/1VV9VZSw4flCqQ1yg+JEgUlUKCKiZ1RW+CjhMYSgrQ7Xa7///40uEkOAUWIYjqytJ3Y9TIZG61rQw9zb/////QglZ/2U/Qp6//NExEQQmVqQAMoKlMwK8BZTEwShQZQSKBysg8hjAbcU+QKjJxgXCURjn0////b7hcETgokCyibn04HhVuDR74FBU6pS////gKRpI//8tZVVMeLTgK0yY/MqFjCwsKCZ//NExFQROOKEANHMcIcRiRKYSCF/nXcld0vs1s6WrS8///H/27aocSGDHEhjGfKSdgx8qGSztcs8svoNavR/67/W7u+rz2RVZhDgsdOUZU4s/Ru0zJeSsOHwJZm4gzsM//NExGISUPJYAVsQADjgEbEcG8JMgu49xyOgPVFZj8ly4SZadEbJIOM+L7fJ5T6ZsVjxOiaK/mi0zA0QWamkew71I/8vyUQYzdMuOSZtPl5pO//NF0GTUg5mfc1culpN//NExGsh+yqIAZhoACitEnEqXjL//0EKmqQWnToZePzVaRaaj1NlIEsiUoEkAC2FlzCZADHQEAW5CposGCXIzIx6B7z6HAIBONEJyQJYL1By4opcQk4SBDy6WA9EXIHr//NExDYfWcqgAZmQAIBTImZpiUSuRckFgvAb0HJCexQCF60jOXC0uLhE7DhHJIAQfqdarOfUqXiiQAnBpjIE6l/uzfk8YmtnYsRN//9n61tb7VsCtRIBkpYuQ0wwTLL+//NExAsVOXLEAY9gAL5YEauwMY61KuwbIkBiJb6srpwdPBCO3jwCa878Sz2AQgSLeP44iihi42ZaeZjo57FKxRU6Wnz2u99JpTspNqe9eteZdaR47lgMVhTHsXhXo9ka//NExAkQ0O7UAY9gACA1KJrNNOKwyYJIQZFgzJa8/TNPJy4iPCYSCAfuLiu83lq+/fpnJy1vY2LwwEAfrPWgQlqQWEoSf/pqM01FYQ82DUXSlVCoczkRRCznZIilEoqm//NExBgSGQbQAY9gAYG46EtwkHhJMB3XHJOERUTy/C5es1yv2pe/9v1x97e3Iot1kAIeZXeXkEyHnMf/93VCiDBLwTInIiyuLoSkyjyH0NAFE3AuS/hGClKRUGU1i4k1//NExCIYyXa8AY94AB/E9SghopJwGESsZj0uo/Cd2k8kKjC9turjbUbNoT6WTyRob6FDzFtCu83/erDa1t4tHfbxLms8YKIXLE7ISZ/GqmQiyAFGNIbhwLB5p9x0aY5E//NExBEVoXrEAY94AHtCMHpHUgC5kLWmRD0y1pMqjIshbIhC2hBwklrDxiu5NYp5d0pjdLwcRNZvqHPjGty53nFqw66v7/Uemq3zmJsIcCH9ADrvg1biYRz4O6JhQ9dp//NExA0QkWq8Ac9YAUwVcqRK+czsYR3bluBDXHcNEAOSWUk+1H7q7i4dNuqK59r5rjmDqBueOvn+IqmPnludq0+2qvYMlpfgettyzkl3gkNkEQorBA8UVoCNTsRsOUZ2//NExB0RUXa0AHsGlBktENNdbe5989lZ6qEefnTXKIXIgtAYFpM7qbk+cZAF3ElMij///0rqzkE9xlmNz1mXapyb7ipEFITBxUkOh6OTHAupGZ+4xzDEAOAhYukWo/pL//NExCoP6Sq0AHvQcbq7r71lvmfsYU7G3/18pq6QCTWeaF2tKA7M4pi+clXtXcXlWBptrys2EEqDKMlk07EllZEdnI5lIXlpfZNa146z0/9qSwp3Wc5OcMMHCihiLLI1//NExD0SiXaoAMMGlBtOHh8NlSs65n///oUqpUpgeeNgEkWeSFNhy2waXzGganI9gejEo3ioSavmS90zD1cSVrb2490zWZ+pCtXq1b180ScIir7zOrJmUw+L3fLcfEuu//NExEUQgWqYAMMKlXFjQVEzNhNdi5pXHJM0qLgBHREAKjAPAaFIEoZUsVIgSOkJKZFQOh0bc2c5tZprnW9Hr+rSpU3hqRUJX3nXt///9FUElDZPznsgFdBSJJJrLiTc//NExFYRSSp0ANpOcDDR39PEh0uoSCgK6CwFJ4QlopJqwaKGCwoDGFXptiQsEQKKoVuz5vsYaLXVsKwVDViHWW///+/qMjMO6mNVXNAiNuCMUJb1yC2w9ggxPSwoolxg//NExGMSASpUANJKcJJQ4joHEvqklrLIlqSerROHAx4SSWCwpZpTfyxtf//yaKaW9ypJv6glFNdtKsJSSVmR0dwbFcozXehQCJGgEJRVfBAKkSkzVmZmFHUDT1hI9naz//NExG4RsKYgANPMTaoOW8sFKut5UFQVd3dX1Fnz2HaMRWLSq60VcGmohpa1MMC74kGGqrIgLHUwSD55NwqsoDSljUEvRY4ChEi0i4Wq/89ctMlOwLKyMKwFJ2vCsrSd//NExHoRoK30AHmGTLqLb4FpsdeJpItChU6HSx4SqDoNDzpZIEL0r1KeyRbmRrcgSHCfJtzUEDbKmQgeDIWJlwTe8iTpdeLDHENA2wIlKanqc0/X2JbJ+t+vRxWu5VUe//NExIYScG3kAMJMKPfZQ4mLVUIUUlku+89ctDC0BgwsaTJhRauA5KYMOKBETHzhAyXPvKCAIBARAeKIzaw3cPy0JodKFD4XFyb/ts//e0QCl2xHO2J7xLUI0BeLwHSL//NExI8QqHH4AHpGSKm60KMuRM6qE/2pAFzgUCAGRCEBSKzkSc62ydkSaRFGDM1HL9lPJ7u/soURMRBgIMw7aOZA6MpC4IeI5uQUKJC0lg7IbJmpFmzMwVVUi4SQ5u2d//NExJ8RGG34AMGGKPOFcYEBwA6UnFBRTvQgoKFL/b2paE0RWzUlzGkKYURCsWitIYYxR3n+quXKoYctg8cgS6aaISPRCCY9CY4YF0mD642SLtIGXIMXZTUQTlKiQ0QQ//NExK0dciHgAHpGmV0dMLyxkjWFFrkmWHMz5ZgxWUaDiiEtnC9QtN8LtpfU77xF3EO8TdZLVOo4l53Tbcgx8tr9XSjDoLy2fkH5nekD1xJyyiwytVW9iw4MzNGSKgEY//NExIohyrnkAMJMuQlA4Bl/gKAZKHjWBKCMvZZA0xKm0qQBHg2RrqicysfYJzIP4sQyiGKx8z2pkZAoUlQocfIVkliELMyVkjlkYli2g9nMTCOxk5aVS1Nct3XT18Qk//NExFUhWxHwAMpMudWfU7+yJ7Xe74dne4j9vcp/xmebPvtHQjHea6WGNnjfCcdtrO/p92kdd7962GX+ZVVYEwDRxUpLwslwgF+atSNWvy7VpSRIGAQUSJJMRRcijJpG//NExCIa6kHkAMGGuSW8tWzk5ssS15o5J23+aqnyqVY9VUBEqGAmY/h5wwolVVmZtQFVb2qqqn+vV/423FVVVVUBfFFeb4K6F7poQS74QUCgoK7rumhSTEFNRTMuMTAw//NExAkAAANIAAAAAKqqqqqqqqqqqqqqqqqqqqqqqqqqqqqqqqqqqqqqqqqqqqqqqqqqqqqqqqqqqqqqqqqqqqqqqqqqqqqqqqqqqqqqqqqqqqqqqqqqqqqqqqqqqqqq\" type=\"audio/wav\" />\n",
       "                    Your browser does not support the audio element.\n",
       "                </audio>\n",
       "              "
      ],
      "text/plain": [
       "<IPython.lib.display.Audio object>"
      ]
     },
     "metadata": {},
     "output_type": "display_data"
    },
    {
     "name": "stdout",
     "output_type": "stream",
     "text": [
      "불법 주행 인식 : 16\n"
     ]
    },
    {
     "data": {
      "text/html": [
       "\n",
       "                <audio  controls=\"controls\" autoplay=\"autoplay\">\n",
       "                    <source src=\"data:audio/wav;base64,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\" type=\"audio/wav\" />\n",
       "                    Your browser does not support the audio element.\n",
       "                </audio>\n",
       "              "
      ],
      "text/plain": [
       "<IPython.lib.display.Audio object>"
      ]
     },
     "metadata": {},
     "output_type": "display_data"
    }
   ],
   "source": [
    "url = \"https://192.168.34.121:8080/video\"\n",
    "cap = cv2.VideoCapture(url)\n",
    "fps = cap.get(cv2.CAP_PROP_FPS)  # fps = 25.0\n",
    "\n",
    "cv2.namedWindow('camera_screenshot', cv2.WINDOW_AUTOSIZE)\n",
    "color = (255, 255, 255)\n",
    "\n",
    "while True:\n",
    "    camera, frame = cap.read()\n",
    "    \n",
    "    if not camera:\n",
    "        print(\"Can't read camera\")\n",
    "        break\n",
    "        \n",
    "#     frame = cv2.rotate(frame, cv2.ROTATE_90_COUNTERCLOCKWISE)\n",
    "#     h = (frame.shape[0] - frame.shape[1]) // 2\n",
    "#     resize_frame = cv2.resize(frame[h:-h, :], dsize=(0, 0), fx=0.5, fy=0.5)    \n",
    "    \n",
    "    if int(cap.get(1) % fps == 0):\n",
    "        cv2.imwrite('face.jpg', frame)\n",
    "        \n",
    "        img = cv2.imread('face.jpg')\n",
    "        height, width, channels = img.shape\n",
    "        blob = cv2.dnn.blobFromImage(img, 0.00392, (250, 250), (0, 0, 0), True, crop=False)\n",
    "        net.setInput(blob)\n",
    "        outs = net.forward(output_layers)\n",
    "        \n",
    "        class_ids = []\n",
    "        for out in outs:\n",
    "            for detection in out:\n",
    "                scores = detection[5:]\n",
    "                class_id = np.argmax(scores)\n",
    "                confidence = scores[class_id]\n",
    "                if confidence > 0.5:\n",
    "                    class_ids.append(class_id)\n",
    "\n",
    "        if class_ids.count(0) >= 1:\n",
    "            print('Helmet detected!!')\n",
    "            time.sleep(0.3)\n",
    "            cv2.destroyAllWindows()\n",
    "            \n",
    "            #카메라 전환 버튼\n",
    "            btn_sw=\"#img_ffc_current\"\n",
    "            driver.find_elements(By.CSS_SELECTOR,btn_sw)[0].click()\n",
    "\n",
    "            # CNN 모델\n",
    "            CNN()\n",
    "            break\n",
    "            \n",
    "        else:\n",
    "            cv2.putText(frame, 'Please wear a helmet..', (50, 100), cv2.FONT_HERSHEY_SIMPLEX, 1, color, 2)\n",
    "            cv2.imshow(\"camera_screenshot\", frame)\n",
    "            \n",
    "            if int(cap.get(1) % 125 == 0):\n",
    "                print(\"헬멧 미착용\")\n",
    "                sound()\n",
    "    \n",
    "    cv2.putText(frame, 'Please wear a helmet..', (50, 100), cv2.FONT_HERSHEY_SIMPLEX, 1, color, 2)\n",
    "    cv2.imshow(\"camera_screenshot\", frame)\n",
    "    \n",
    "    # 강제종료 q 키qq\n",
    "    if cv2.waitKey(1) == ord('q'):\n",
    "        break\n",
    "        \n",
    "cv2.destroyAllWindows()"
   ]
  },
  {
   "cell_type": "code",
   "execution_count": 38,
   "id": "6e177839",
   "metadata": {},
   "outputs": [],
   "source": [
    "#카메라 전환 버튼\n",
    "btn_sw=\"#img_ffc_current\"\n",
    "driver.find_elements(By.CSS_SELECTOR,btn_sw)[0].click()"
   ]
  }
 ],
 "metadata": {
  "kernelspec": {
   "display_name": "Python 3 (ipykernel)",
   "language": "python",
   "name": "python3"
  },
  "language_info": {
   "codemirror_mode": {
    "name": "ipython",
    "version": 3
   },
   "file_extension": ".py",
   "mimetype": "text/x-python",
   "name": "python",
   "nbconvert_exporter": "python",
   "pygments_lexer": "ipython3",
   "version": "3.9.12"
  }
 },
 "nbformat": 4,
 "nbformat_minor": 5
}
